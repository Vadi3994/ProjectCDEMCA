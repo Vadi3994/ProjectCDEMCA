{
 "cells": [
  {
   "cell_type": "code",
   "execution_count": 3,
   "metadata": {},
   "outputs": [
    {
     "ename": "ERROR",
     "evalue": "Error in parse(text = x, srcfile = src): <text>:1:6: unexpected symbol\n1: from Web_App.models\n         ^\n",
     "output_type": "error",
     "traceback": [
      "Error in parse(text = x, srcfile = src): <text>:1:6: unexpected symbol\n1: from Web_App.models\n         ^\nTraceback:\n"
     ]
    }
   ],
   "source": [
    "\n",
    "customer_data=read.csv(\"C:/Users/velu3/Documents/GitHub/ProjectCDEMCA/Data/Mall_Customers.csv\")\n",
    "\n",
    "png(file = \"C:/Users/velu3/Documents/GitHub/ProjectCDEMCA/Web_App/static/Web_App/RGraphs/barchart_months_revenue.png\")\n",
    "\n",
    "hist(customer_data$Age,\n",
    "     col=\"blue\",\n",
    "     main=\"Histogram to Show Count of Age Class\",\n",
    "     xlab=\"Age Class\",\n",
    "     ylab=\"Frequency\",\n",
    "     labels=TRUE)\n",
    "\n",
    "dev.off()\n"
   ]
  },
  {
   "cell_type": "code",
   "execution_count": null,
   "metadata": {},
   "outputs": [],
   "source": []
  }
 ],
 "metadata": {
  "kernelspec": {
   "display_name": "R",
   "language": "R",
   "name": "ir"
  },
  "language_info": {
   "codemirror_mode": "r",
   "file_extension": ".r",
   "mimetype": "text/x-r-source",
   "name": "R",
   "pygments_lexer": "r",
   "version": "3.6.1"
  }
 },
 "nbformat": 4,
 "nbformat_minor": 2
}
