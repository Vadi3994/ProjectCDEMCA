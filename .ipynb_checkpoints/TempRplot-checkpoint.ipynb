{
 "cells": [
  {
   "cell_type": "code",
   "execution_count": null,
   "metadata": {
    "scrolled": true
   },
   "outputs": [],
   "source": [
    "import rpy2.robjects as robjects\n",
    "from rpy2.robjects.lib import grdevices\n",
    "from rpy2.robjects.vectors import IntVector\n",
    "from IPython.display import Image, display\n",
    "\n",
    "graphics = robjects.packages.importr('graphics')"
   ]
  },
  {
   "cell_type": "code",
   "execution_count": null,
   "metadata": {},
   "outputs": [],
   "source": [
    "with grdevices.render_to_bytesio(grdevices.jpeg, width=1024,height=896, res=150) as img:\n",
    "    graphics.barplot(IntVector((1,3,2,5,4)),ylab=\"Value\")\n",
    "    \n",
    "    display(Image(data=img.getvalue(),format='jpeg', embed=True))"
   ]
  },
  {
   "cell_type": "code",
   "execution_count": null,
   "metadata": {},
   "outputs": [],
   "source": []
  }
 ],
 "metadata": {
  "kernelspec": {
   "display_name": "Python 3",
   "language": "python",
   "name": "python3"
  },
  "language_info": {
   "codemirror_mode": {
    "name": "ipython",
    "version": 3
   },
   "file_extension": ".py",
   "mimetype": "text/x-python",
   "name": "python",
   "nbconvert_exporter": "python",
   "pygments_lexer": "ipython3",
   "version": "3.7.4"
  }
 },
 "nbformat": 4,
 "nbformat_minor": 2
}
