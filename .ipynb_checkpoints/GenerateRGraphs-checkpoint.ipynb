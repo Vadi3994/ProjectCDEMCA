{
 "cells": [
  {
   "cell_type": "code",
   "execution_count": 3,
   "metadata": {},
   "outputs": [
    {
     "data": {
      "text/html": [
       "<strong>png:</strong> 2"
      ],
      "text/latex": [
       "\\textbf{png:} 2"
      ],
      "text/markdown": [
       "**png:** 2"
      ],
      "text/plain": [
       "png \n",
       "  2 "
      ]
     },
     "metadata": {},
     "output_type": "display_data"
    }
   ],
   "source": [
    "library(DBI)\n",
    "library(RSQLite)\n",
    "con = dbConnect(SQLite(), \"C:/Users/velu3/Documents/GitHub/ProjectCDEMCA/db.sqlite3\")\n",
    "alltables = dbListTables(con)\n",
    "customer_data = dbGetQuery( con,'select * from Web_App_customer' )\n",
    "\n",
    "png(file = \"C:/Users/velu3/Documents/GitHub/ProjectCDEMCA/Web_App/static/Web_App/RGraphs/AgeOfClass.png\")\n",
    "\n",
    "hist(customer_data$Age,\n",
    "     col=\"blue\",\n",
    "     main=\"Histogram to Show Count of Age Class\",\n",
    "     xlab=\"Age Class\",\n",
    "     ylab=\"Frequency\",\n",
    "     labels=TRUE)\n",
    "\n",
    "dev.off()\n"
   ]
  },
  {
   "cell_type": "code",
   "execution_count": null,
   "metadata": {},
   "outputs": [],
   "source": []
  }
 ],
 "metadata": {
  "kernelspec": {
   "display_name": "R",
   "language": "R",
   "name": "ir"
  },
  "language_info": {
   "codemirror_mode": "r",
   "file_extension": ".r",
   "mimetype": "text/x-r-source",
   "name": "R",
   "pygments_lexer": "r",
   "version": "3.6.1"
  }
 },
 "nbformat": 4,
 "nbformat_minor": 2
}
