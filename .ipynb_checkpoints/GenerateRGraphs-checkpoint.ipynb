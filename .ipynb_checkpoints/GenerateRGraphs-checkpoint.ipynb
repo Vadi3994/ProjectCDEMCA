{
 "cells": [
  {
   "cell_type": "code",
   "execution_count": null,
   "metadata": {},
   "outputs": [],
   "source": [
    "customer_data=read.csv(\"C:/Users/velu3/Documents/GitHub/ProjectCDEMCA/Data/Mall_Customers.csv\")\n",
    "\n",
    "png(file = \"C:/Users/velu3/Documents/GitHub/ProjectCDEMCA/Web_App/static/Web_App/RGraphs/AgeOfClass.png\")\n",
    "\n",
    "hist(customer_data$Age,\n",
    "     col=\"blue\",\n",
    "     main=\"Histogram to Show Count of Age Class\",\n",
    "     xlab=\"Age Class\",\n",
    "     ylab=\"Frequency\",\n",
    "     labels=TRUE)\n",
    "\n",
    "dev.off()"
   ]
  }
 ],
 "metadata": {
  "kernelspec": {
   "display_name": "R",
   "language": "R",
   "name": "ir"
  },
  "language_info": {
   "codemirror_mode": "r",
   "file_extension": ".r",
   "mimetype": "text/x-r-source",
   "name": "R",
   "pygments_lexer": "r",
   "version": "3.6.1"
  }
 },
 "nbformat": 4,
 "nbformat_minor": 2
}
